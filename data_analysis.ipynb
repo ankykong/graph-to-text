{
 "cells": [
  {
   "cell_type": "code",
   "execution_count": 5,
   "metadata": {},
   "outputs": [],
   "source": [
    "import pandas as pd\n",
    "import os\n"
   ]
  },
  {
   "cell_type": "code",
   "execution_count": 7,
   "metadata": {},
   "outputs": [
    {
     "name": "stdout",
     "output_type": "stream",
     "text": [
      "   id                                              title  \\\n",
      "0   1  \\r\\n                        Number of monthly ...   \n",
      "1   2  \\r\\n                        United States: est...   \n",
      "2   3  \\r\\n                        Reported violent c...   \n",
      "3   4  \\r\\n                        Players with the m...   \n",
      "4   5  \\r\\n                        Players with most ...   \n",
      "\n",
      "                                   dataPath  \\\n",
      "0  statista_dataset/dataset_copy/data/1.csv   \n",
      "1  statista_dataset/dataset_copy/data/2.csv   \n",
      "2  statista_dataset/dataset_copy/data/3.csv   \n",
      "3  statista_dataset/dataset_copy/data/4.csv   \n",
      "4  statista_dataset/dataset_copy/data/5.csv   \n",
      "\n",
      "                                    imgPath  \\\n",
      "0  statista_dataset/dataset_copy/imgs/1.png   \n",
      "1  statista_dataset/dataset_copy/imgs/2.png   \n",
      "2  statista_dataset/dataset_copy/imgs/3.png   \n",
      "3  statista_dataset/dataset_copy/imgs/4.png   \n",
      "4  statista_dataset/dataset_copy/imgs/5.png   \n",
      "\n",
      "                                             caption  \\\n",
      "0  How many users does Facebook have? With over 2...   \n",
      "1   This statistic presents the estimated net wor...   \n",
      "2   This statistic shows the reported violent cri...   \n",
      "3   Emmitt Smith is the all-time rushing leader o...   \n",
      "4   As of July 2020, Cristiano Ronaldo leads the ...   \n",
      "\n",
      "                                       first_caption chartType release date  \\\n",
      "0  How many users does Facebook have? With over 2...      line       Oct-20   \n",
      "1   This statistic presents the estimated net wor...       bar       Mar-20   \n",
      "2   This statistic shows the reported violent cri...      line       Sep-20   \n",
      "3   Emmitt Smith is the all-time rushing leader o...       bar       Jan-21   \n",
      "4   As of July 2020, Cristiano Ronaldo leads the ...       bar       Mar-20   \n",
      "\n",
      "          Region     survey time period       xAxis  \\\n",
      "0      Worldwide     Q3 2008 to Q3 2020  Unnamed: 0   \n",
      "1  United States                 Mar-20  Unnamed: 0   \n",
      "2  United States           1990 to 2019  Unnamed: 0   \n",
      "3  United States  as of January 4, 2021  Unnamed: 0   \n",
      "4         Europe           1955 to 2020  Unnamed: 0   \n",
      "\n",
      "                                               yAxis  \\\n",
      "0                        Number of users in millions   \n",
      "1                  Net worth in billion U.S. dollars   \n",
      "2  Reported violent crime rate per 100,000 popula...   \n",
      "3                                    Number of yards   \n",
      "4                                       Goals scored   \n",
      "\n",
      "                                                 URL  \n",
      "0  https://www.statista.com/statistics/264810/num...  \n",
      "1  https://www.statista.com/statistics/201426/the...  \n",
      "2  https://www.statista.com/statistics/191219/rep...  \n",
      "3  https://www.statista.com/statistics/784449/pla...  \n",
      "4  https://www.statista.com/statistics/378059/cha...  \n"
     ]
    }
   ],
   "source": [
    "# Define the path to the metadata file\n",
    "metadata_file_path = os.path.join('statista_dataset/dataset_copy', 'metadata.csv')\n",
    "\n",
    "# Load the metadata into a DataFrame\n",
    "metadata = pd.read_csv(metadata_file_path)\n",
    "\n",
    "# Inspect the first few rows\n",
    "print(metadata.head())\n"
   ]
  },
  {
   "cell_type": "code",
   "execution_count": 9,
   "metadata": {},
   "outputs": [
    {
     "name": "stdout",
     "output_type": "stream",
     "text": [
      "Filtered metadata saved to 'statista_dataset/dataset_copy\\filtered_metadata.csv'.\n"
     ]
    }
   ],
   "source": [
    "# Define columns to include\n",
    "columns_to_include = ['imgPath', 'caption', 'chartType', 'xAxis', 'yAxis']\n",
    "\n",
    "# Filter the metadata\n",
    "filtered_metadata = metadata[columns_to_include]\n",
    "\n",
    "# Save the filtered metadata to the same directory\n",
    "filtered_metadata_file_path = os.path.join('statista_dataset/dataset_copy', 'filtered_metadata.csv')\n",
    "filtered_metadata.to_csv(filtered_metadata_file_path, index=False)\n",
    "\n",
    "print(f\"Filtered metadata saved to '{filtered_metadata_file_path}'.\")\n"
   ]
  },
  {
   "cell_type": "code",
   "execution_count": 10,
   "metadata": {},
   "outputs": [
    {
     "name": "stdout",
     "output_type": "stream",
     "text": [
      "                                    imgPath  \\\n",
      "0  statista_dataset/dataset_copy/imgs/1.png   \n",
      "1  statista_dataset/dataset_copy/imgs/2.png   \n",
      "2  statista_dataset/dataset_copy/imgs/3.png   \n",
      "3  statista_dataset/dataset_copy/imgs/4.png   \n",
      "4  statista_dataset/dataset_copy/imgs/5.png   \n",
      "\n",
      "                                             caption chartType       xAxis  \\\n",
      "0  How many users does Facebook have? With over 2...      line  Unnamed: 0   \n",
      "1   This statistic presents the estimated net wor...       bar  Unnamed: 0   \n",
      "2   This statistic shows the reported violent cri...      line  Unnamed: 0   \n",
      "3   Emmitt Smith is the all-time rushing leader o...       bar  Unnamed: 0   \n",
      "4   As of July 2020, Cristiano Ronaldo leads the ...       bar  Unnamed: 0   \n",
      "\n",
      "                                               yAxis  \n",
      "0                        Number of users in millions  \n",
      "1                  Net worth in billion U.S. dollars  \n",
      "2  Reported violent crime rate per 100,000 popula...  \n",
      "3                                    Number of yards  \n",
      "4                                       Goals scored  \n"
     ]
    }
   ],
   "source": [
    "# Load the filtered metadata\n",
    "filtered_metadata = pd.read_csv(filtered_metadata_file_path)\n",
    "\n",
    "# Inspect the filtered metadata\n",
    "print(filtered_metadata.head())\n"
   ]
  },
  {
   "cell_type": "code",
   "execution_count": 11,
   "metadata": {},
   "outputs": [
    {
     "name": "stdout",
     "output_type": "stream",
     "text": [
      "All image paths are valid.\n"
     ]
    }
   ],
   "source": [
    "# Check if all image paths are valid\n",
    "invalid_img_paths = filtered_metadata[~filtered_metadata['imgPath'].apply(os.path.exists)]\n",
    "\n",
    "if len(invalid_img_paths) > 0:\n",
    "    print(f\"Found {len(invalid_img_paths)} invalid image paths.\")\n",
    "    print(invalid_img_paths)\n",
    "else:\n",
    "    print(\"All image paths are valid.\")\n"
   ]
  },
  {
   "cell_type": "code",
   "execution_count": 12,
   "metadata": {},
   "outputs": [
    {
     "name": "stdout",
     "output_type": "stream",
     "text": [
      "Total charts: 27868\n",
      "   id                                              title  \\\n",
      "0   1  \\r\\n                        Number of monthly ...   \n",
      "1   2  \\r\\n                        United States: est...   \n",
      "2   3  \\r\\n                        Reported violent c...   \n",
      "3   4  \\r\\n                        Players with the m...   \n",
      "4   5  \\r\\n                        Players with most ...   \n",
      "\n",
      "                                   dataPath  \\\n",
      "0  statista_dataset/dataset_copy/data/1.csv   \n",
      "1  statista_dataset/dataset_copy/data/2.csv   \n",
      "2  statista_dataset/dataset_copy/data/3.csv   \n",
      "3  statista_dataset/dataset_copy/data/4.csv   \n",
      "4  statista_dataset/dataset_copy/data/5.csv   \n",
      "\n",
      "                                    imgPath  \\\n",
      "0  statista_dataset/dataset_copy/imgs/1.png   \n",
      "1  statista_dataset/dataset_copy/imgs/2.png   \n",
      "2  statista_dataset/dataset_copy/imgs/3.png   \n",
      "3  statista_dataset/dataset_copy/imgs/4.png   \n",
      "4  statista_dataset/dataset_copy/imgs/5.png   \n",
      "\n",
      "                                             caption  \\\n",
      "0  How many users does Facebook have? With over 2...   \n",
      "1   This statistic presents the estimated net wor...   \n",
      "2   This statistic shows the reported violent cri...   \n",
      "3   Emmitt Smith is the all-time rushing leader o...   \n",
      "4   As of July 2020, Cristiano Ronaldo leads the ...   \n",
      "\n",
      "                                       first_caption chartType release date  \\\n",
      "0  How many users does Facebook have? With over 2...      line       Oct-20   \n",
      "1   This statistic presents the estimated net wor...       bar       Mar-20   \n",
      "2   This statistic shows the reported violent cri...      line       Sep-20   \n",
      "3   Emmitt Smith is the all-time rushing leader o...       bar       Jan-21   \n",
      "4   As of July 2020, Cristiano Ronaldo leads the ...       bar       Mar-20   \n",
      "\n",
      "          Region     survey time period       xAxis  \\\n",
      "0      Worldwide     Q3 2008 to Q3 2020  Unnamed: 0   \n",
      "1  United States                 Mar-20  Unnamed: 0   \n",
      "2  United States           1990 to 2019  Unnamed: 0   \n",
      "3  United States  as of January 4, 2021  Unnamed: 0   \n",
      "4         Europe           1955 to 2020  Unnamed: 0   \n",
      "\n",
      "                                               yAxis  \\\n",
      "0                        Number of users in millions   \n",
      "1                  Net worth in billion U.S. dollars   \n",
      "2  Reported violent crime rate per 100,000 popula...   \n",
      "3                                    Number of yards   \n",
      "4                                       Goals scored   \n",
      "\n",
      "                                                 URL  \n",
      "0  https://www.statista.com/statistics/264810/num...  \n",
      "1  https://www.statista.com/statistics/201426/the...  \n",
      "2  https://www.statista.com/statistics/191219/rep...  \n",
      "3  https://www.statista.com/statistics/784449/pla...  \n",
      "4  https://www.statista.com/statistics/378059/cha...  \n"
     ]
    }
   ],
   "source": [
    "# Inspect the data\n",
    "print(f\"Total charts: {len(metadata)}\")\n",
    "print(metadata.head())"
   ]
  },
  {
   "cell_type": "code",
   "execution_count": 13,
   "metadata": {},
   "outputs": [
    {
     "name": "stdout",
     "output_type": "stream",
     "text": [
      "\n",
      "=== Chart Type Information ===\n",
      "Number of charts of each chart type\n",
      "column: 16319\n",
      "bar: 8272\n",
      "line: 2646\n",
      "pie: 408\n",
      "table: 223\n"
     ]
    }
   ],
   "source": [
    "# Count the number of charts for each chart type\n",
    "chart_type_counts = metadata['chartType'].value_counts()\n",
    "\n",
    "# Print chart type information\n",
    "print(\"\\n=== Chart Type Information ===\")\n",
    "print(\"Number of charts of each chart type\")\n",
    "for chart_type, count in chart_type_counts.items():\n",
    "    print(f\"{chart_type}: {count}\")"
   ]
  },
  {
   "cell_type": "code",
   "execution_count": 20,
   "metadata": {},
   "outputs": [
    {
     "name": "stdout",
     "output_type": "stream",
     "text": [
      "\n",
      "=== Token Information ===\n",
      "Average token count per summary: 69.05533228075211\n",
      "Total tokens: 1924434\n",
      "Total types (unique tokens): 73296\n"
     ]
    }
   ],
   "source": [
    "# Tokenize captions (split by whitespace)\n",
    "metadata['token_count'] = metadata['caption'].apply(lambda x: len(x.split()))\n",
    "\n",
    "# Compute token statistics\n",
    "average_token_count = metadata['token_count'].mean()\n",
    "total_tokens = metadata['token_count'].sum()\n",
    "unique_tokens = len(set(\" \".join(metadata['caption']).split()))\n",
    "\n",
    "print(\"\\n=== Token Information ===\")\n",
    "print(f\"Average token count per summary: {average_token_count}\")\n",
    "print(f\"Total tokens: {total_tokens}\")\n",
    "print(f\"Total types (unique tokens): {unique_tokens}\")\n"
   ]
  },
  {
   "cell_type": "code",
   "execution_count": 19,
   "metadata": {},
   "outputs": [
    {
     "name": "stdout",
     "output_type": "stream",
     "text": [
      "\n",
      "=== Sentence Information ===\n",
      "Average sentence count per summary: 4.932359695708339\n"
     ]
    }
   ],
   "source": [
    "# Count sentences (split by periods)\n",
    "metadata['sentence_count'] = metadata['caption'].apply(lambda x: len(x.split('.')))\n",
    "\n",
    "# Compute sentence statistics\n",
    "average_sentence_count = metadata['sentence_count'].mean()\n",
    "\n",
    "print(\"\\n=== Sentence Information ===\")\n",
    "print(f\"Average sentence count per summary: {average_sentence_count}\")\n"
   ]
  },
  {
   "cell_type": "code",
   "execution_count": null,
   "metadata": {},
   "outputs": [],
   "source": []
  }
 ],
 "metadata": {
  "kernelspec": {
   "display_name": "Python 3",
   "language": "python",
   "name": "python3"
  },
  "language_info": {
   "codemirror_mode": {
    "name": "ipython",
    "version": 3
   },
   "file_extension": ".py",
   "mimetype": "text/x-python",
   "name": "python",
   "nbconvert_exporter": "python",
   "pygments_lexer": "ipython3",
   "version": "3.11.9"
  }
 },
 "nbformat": 4,
 "nbformat_minor": 2
}
